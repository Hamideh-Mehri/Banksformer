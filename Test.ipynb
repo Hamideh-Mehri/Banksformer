{
 "cells": [
  {
   "cell_type": "code",
   "execution_count": 1,
   "metadata": {},
   "outputs": [
    {
     "name": "stderr",
     "output_type": "stream",
     "text": [
      "2023-11-29 13:01:09.732743: I tensorflow/stream_executor/platform/default/dso_loader.cc:49] Successfully opened dynamic library libcudart.so.10.1\n"
     ]
    }
   ],
   "source": [
    "from prepare_data import preprocess_data_czech\n",
    "from field_info import FieldInfo\n",
    "from tensor_encoder import TensorEncoder\n",
    "import pandas as pd\n",
    "import tensorflow as tf\n",
    "import numpy as np"
   ]
  },
  {
   "cell_type": "code",
   "execution_count": 2,
   "metadata": {},
   "outputs": [],
   "source": [
    "raw_data = pd.read_csv('../DATA/tr_by_acct_w_age.csv')\n",
    "data, LOG_AMOUNT_SCALE, TD_SCALE, START_DATE, TCODE_TO_NUM, NUM_TO_TCODE = preprocess_data_czech(raw_data)\n",
    "data2 = data[['account_id','age','tcode', 'tcode_num', 'datetime', 'month', 'dow', 'day', 'dtme' ,'log_amount_sc','td_sc']]\n",
    "df= data2.copy()\n",
    "\n",
    "n_tcodes = len(TCODE_TO_NUM)\n",
    "\n",
    "info = FieldInfo(n_tcodes)\n",
    "\n",
    "max_seq_len = 80\n",
    "min_seq_len = 20\n",
    "encoder = TensorEncoder(df, info, max_seq_len, min_seq_len)\n"
   ]
  },
  {
   "cell_type": "code",
   "execution_count": 3,
   "metadata": {},
   "outputs": [
    {
     "data": {
      "text/plain": [
       "(99101, 72764, 14354)"
      ]
     },
     "execution_count": 3,
     "metadata": {},
     "output_type": "execute_result"
    }
   ],
   "source": [
    "encoder.count_variable_length_seqs_with_overlap(), encoder.count_seqs_with_overlap(), encoder.count_seqs_in_df()"
   ]
  },
  {
   "cell_type": "code",
   "execution_count": 4,
   "metadata": {},
   "outputs": [
    {
     "name": "stderr",
     "output_type": "stream",
     "text": [
      "2023-11-29 13:02:08.375023: I tensorflow/compiler/jit/xla_cpu_device.cc:41] Not creating XLA devices, tf_xla_enable_xla_devices not set\n",
      "2023-11-29 13:02:08.376207: I tensorflow/stream_executor/platform/default/dso_loader.cc:49] Successfully opened dynamic library libcuda.so.1\n",
      "2023-11-29 13:02:08.409267: I tensorflow/core/common_runtime/gpu/gpu_device.cc:1720] Found device 0 with properties: \n",
      "pciBusID: 0000:3b:00.0 name: Quadro RTX 8000 computeCapability: 7.5\n",
      "coreClock: 1.77GHz coreCount: 72 deviceMemorySize: 47.45GiB deviceMemoryBandwidth: 625.94GiB/s\n",
      "2023-11-29 13:02:08.409429: I tensorflow/core/common_runtime/gpu/gpu_device.cc:1720] Found device 1 with properties: \n",
      "pciBusID: 0000:af:00.0 name: Quadro RTX 8000 computeCapability: 7.5\n",
      "coreClock: 1.77GHz coreCount: 72 deviceMemorySize: 47.45GiB deviceMemoryBandwidth: 625.94GiB/s\n",
      "2023-11-29 13:02:08.409445: I tensorflow/stream_executor/platform/default/dso_loader.cc:49] Successfully opened dynamic library libcudart.so.10.1\n",
      "2023-11-29 13:02:08.410798: I tensorflow/stream_executor/platform/default/dso_loader.cc:49] Successfully opened dynamic library libcublas.so.10\n",
      "2023-11-29 13:02:08.410843: I tensorflow/stream_executor/platform/default/dso_loader.cc:49] Successfully opened dynamic library libcublasLt.so.10\n",
      "2023-11-29 13:02:08.412132: I tensorflow/stream_executor/platform/default/dso_loader.cc:49] Successfully opened dynamic library libcufft.so.10\n",
      "2023-11-29 13:02:08.412328: I tensorflow/stream_executor/platform/default/dso_loader.cc:49] Successfully opened dynamic library libcurand.so.10\n",
      "2023-11-29 13:02:08.413517: I tensorflow/stream_executor/platform/default/dso_loader.cc:49] Successfully opened dynamic library libcusolver.so.10\n",
      "2023-11-29 13:02:08.414142: I tensorflow/stream_executor/platform/default/dso_loader.cc:49] Successfully opened dynamic library libcusparse.so.10\n",
      "2023-11-29 13:02:08.416829: I tensorflow/stream_executor/platform/default/dso_loader.cc:49] Successfully opened dynamic library libcudnn.so.7\n",
      "2023-11-29 13:02:08.417447: I tensorflow/core/common_runtime/gpu/gpu_device.cc:1862] Adding visible gpu devices: 0, 1\n",
      "2023-11-29 13:02:08.417926: I tensorflow/core/platform/cpu_feature_guard.cc:142] This TensorFlow binary is optimized with oneAPI Deep Neural Network Library (oneDNN) to use the following CPU instructions in performance-critical operations:  SSE4.1 SSE4.2 AVX AVX2 AVX512F FMA\n",
      "To enable them in other operations, rebuild TensorFlow with the appropriate compiler flags.\n",
      "2023-11-29 13:02:08.419092: I tensorflow/compiler/jit/xla_gpu_device.cc:99] Not creating XLA devices, tf_xla_enable_xla_devices not set\n",
      "2023-11-29 13:02:08.592204: I tensorflow/core/common_runtime/gpu/gpu_device.cc:1720] Found device 0 with properties: \n",
      "pciBusID: 0000:3b:00.0 name: Quadro RTX 8000 computeCapability: 7.5\n",
      "coreClock: 1.77GHz coreCount: 72 deviceMemorySize: 47.45GiB deviceMemoryBandwidth: 625.94GiB/s\n",
      "2023-11-29 13:02:08.592378: I tensorflow/core/common_runtime/gpu/gpu_device.cc:1720] Found device 1 with properties: \n",
      "pciBusID: 0000:af:00.0 name: Quadro RTX 8000 computeCapability: 7.5\n",
      "coreClock: 1.77GHz coreCount: 72 deviceMemorySize: 47.45GiB deviceMemoryBandwidth: 625.94GiB/s\n",
      "2023-11-29 13:02:08.592406: I tensorflow/stream_executor/platform/default/dso_loader.cc:49] Successfully opened dynamic library libcudart.so.10.1\n",
      "2023-11-29 13:02:08.592423: I tensorflow/stream_executor/platform/default/dso_loader.cc:49] Successfully opened dynamic library libcublas.so.10\n",
      "2023-11-29 13:02:08.592429: I tensorflow/stream_executor/platform/default/dso_loader.cc:49] Successfully opened dynamic library libcublasLt.so.10\n",
      "2023-11-29 13:02:08.592436: I tensorflow/stream_executor/platform/default/dso_loader.cc:49] Successfully opened dynamic library libcufft.so.10\n",
      "2023-11-29 13:02:08.592443: I tensorflow/stream_executor/platform/default/dso_loader.cc:49] Successfully opened dynamic library libcurand.so.10\n",
      "2023-11-29 13:02:08.592449: I tensorflow/stream_executor/platform/default/dso_loader.cc:49] Successfully opened dynamic library libcusolver.so.10\n",
      "2023-11-29 13:02:08.592455: I tensorflow/stream_executor/platform/default/dso_loader.cc:49] Successfully opened dynamic library libcusparse.so.10\n",
      "2023-11-29 13:02:08.592462: I tensorflow/stream_executor/platform/default/dso_loader.cc:49] Successfully opened dynamic library libcudnn.so.7\n",
      "2023-11-29 13:02:08.592936: I tensorflow/core/common_runtime/gpu/gpu_device.cc:1862] Adding visible gpu devices: 0, 1\n",
      "2023-11-29 13:02:08.592961: I tensorflow/stream_executor/platform/default/dso_loader.cc:49] Successfully opened dynamic library libcudart.so.10.1\n",
      "2023-11-29 13:02:10.344735: I tensorflow/core/common_runtime/gpu/gpu_device.cc:1261] Device interconnect StreamExecutor with strength 1 edge matrix:\n",
      "2023-11-29 13:02:10.344768: I tensorflow/core/common_runtime/gpu/gpu_device.cc:1267]      0 1 \n",
      "2023-11-29 13:02:10.344773: I tensorflow/core/common_runtime/gpu/gpu_device.cc:1280] 0:   N Y \n",
      "2023-11-29 13:02:10.344775: I tensorflow/core/common_runtime/gpu/gpu_device.cc:1280] 1:   Y N \n",
      "2023-11-29 13:02:10.345519: I tensorflow/core/common_runtime/gpu/gpu_device.cc:1406] Created TensorFlow device (/job:localhost/replica:0/task:0/device:GPU:0 with 511 MB memory) -> physical GPU (device: 0, name: Quadro RTX 8000, pci bus id: 0000:3b:00.0, compute capability: 7.5)\n",
      "2023-11-29 13:02:10.346157: I tensorflow/core/common_runtime/gpu/gpu_device.cc:1406] Created TensorFlow device (/job:localhost/replica:0/task:0/device:GPU:1 with 45387 MB memory) -> physical GPU (device: 1, name: Quadro RTX 8000, pci bus id: 0000:af:00.0, compute capability: 7.5)\n"
     ]
    },
    {
     "name": "stdout",
     "output_type": "stream",
     "text": [
      "Finished encoding 2000 of 14354 seqs\n",
      "Finished encoding 4000 of 14354 seqs\n",
      "Finished encoding 6000 of 14354 seqs\n",
      "Finished encoding 8000 of 14354 seqs\n",
      "Finished encoding 10000 of 14354 seqs\n",
      "Finished encoding 12000 of 14354 seqs\n",
      "Finished encoding 14000 of 14354 seqs\n",
      "Took 88.07 secs\n"
     ]
    }
   ],
   "source": [
    "encoder.encode()"
   ]
  },
  {
   "cell_type": "code",
   "execution_count": 5,
   "metadata": {},
   "outputs": [
    {
     "data": {
      "text/plain": [
       "(14354, 81, 26)"
      ]
     },
     "execution_count": 5,
     "metadata": {},
     "output_type": "execute_result"
    }
   ],
   "source": [
    "encoder.inp_tensor.shape"
   ]
  },
  {
   "cell_type": "code",
   "execution_count": null,
   "metadata": {},
   "outputs": [],
   "source": [
    "encoder.inp_tensor"
   ]
  },
  {
   "cell_type": "code",
   "execution_count": 8,
   "metadata": {},
   "outputs": [],
   "source": [
    "# Create a TensorFlow dataset from the entire tensors\n",
    "ds_all = tf.data.Dataset.from_tensor_slices((encoder.inp_tensor.astype(np.float32), encoder.tar_tensor.astype(np.float32)))\n",
    "\n",
    "def make_batches(ds, buffer_size, batch_size):\n",
    "    return ds.cache().shuffle(buffer_size).batch(batch_size).prefetch(tf.data.AUTOTUNE)\n",
    "\n",
    "BUFFER_SIZE = ds_all.cardinality().numpy()\n",
    "bs = 64  # batch size\n",
    "\n",
    "# Create train batches from the entire dataset\n",
    "train_batches = make_batches(ds_all, BUFFER_SIZE, bs)"
   ]
  },
  {
   "cell_type": "code",
   "execution_count": 9,
   "metadata": {},
   "outputs": [
    {
     "data": {
      "text/plain": [
       "<PrefetchDataset shapes: ((None, 81, 26), (None, 80, 7)), types: (tf.float32, tf.float32)>"
      ]
     },
     "execution_count": 9,
     "metadata": {},
     "output_type": "execute_result"
    }
   ],
   "source": [
    "train_batches"
   ]
  },
  {
   "cell_type": "code",
   "execution_count": 10,
   "metadata": {},
   "outputs": [],
   "source": [
    "# create only one sample of inp and tar to trace one iteration of loop\n",
    "j = 0\n",
    "for (batch_no, (inp, tar)) in enumerate(train_batches):\n",
    "    if j == 0:\n",
    "       break"
   ]
  },
  {
   "cell_type": "code",
   "execution_count": null,
   "metadata": {},
   "outputs": [],
   "source": [
    "tar"
   ]
  },
  {
   "cell_type": "code",
   "execution_count": 14,
   "metadata": {},
   "outputs": [],
   "source": [
    "from modules import InputEmbedLayer,InputEmbedLayer_Res, ResidualLayer, RandomNoise_Simulator_Normal, positional_encoding, MultiHeadAttention, create_masks, DecoderLayer, Decoder\n",
    "import tensorflow as tf\n",
    "features = 26\n",
    "d_embedding = 128\n",
    "dff = 128\n",
    "d_model = 128\n",
    "batch_size = 64\n",
    "seq_len = 80\n",
    "maximum_position_encoding = 256\n",
    "rate = 0.1\n",
    "num_heads = 2\n",
    "num_layers = 4\n",
    "z = RandomNoise_Simulator_Normal(batch_size, seq_len, features)\n",
    "\n",
    "#Transformer Model\n",
    "input_ = tf.keras.layers.Input(shape=(None, features))\n",
    "x = InputEmbedLayer(features, dff , d_embedding)(input_)\n",
    "\n",
    "pos_encoding = positional_encoding(maximum_position_encoding, d_embedding)   #(1, maximum_position_encoding=256, d_model=128)\n",
    "\n",
    "seq_len = tf.shape(x)[1]\n",
    "x += pos_encoding[:, :seq_len, :]     #x is the output of Input layer\n",
    "\n",
    "x = tf.keras.layers.Dropout(rate)(x, training=True)\n",
    "\n",
    "mask, _ = create_masks(tar)\n",
    "d_inp_decoder = tf.keras.backend.int_shape(x)[-1]\n",
    "\n",
    "out, attention_weights = Decoder(num_layers, d_inp_decoder, d_model, num_heads, dff)(x, True, mask)\n",
    "\n",
    "final_output = tf.keras.layers.Dense(d_model, activation=None)(out)\n",
    "model = tf.keras.models.Model(input_, final_output)\n"
   ]
  },
  {
   "cell_type": "code",
   "execution_count": null,
   "metadata": {},
   "outputs": [],
   "source": [
    "model.summary()"
   ]
  },
  {
   "cell_type": "code",
   "execution_count": 18,
   "metadata": {},
   "outputs": [],
   "source": [
    "# from modules import InputEmbedLayer,InputEmbedLayer_Res, ResidualLayer, RandomNoise_Simulator_Normal, positional_encoding, MultiHeadAttention, create_masks, DecoderLayer\n",
    "# import tensorflow as tf\n",
    "# features = 26\n",
    "# d_embedding = 128\n",
    "# dff = 128\n",
    "# d_model = 128\n",
    "# batch_size = 64\n",
    "# seq_len = 80\n",
    "# maximum_position_encoding = 256\n",
    "# rate = 0.1\n",
    "# num_heads = 2\n",
    "# num_layers = 4\n",
    "# z = RandomNoise_Simulator_Normal(batch_size, seq_len, features)\n",
    "\n",
    "# #Transformer Model\n",
    "# input_ = tf.keras.layers.Input(shape=(None, features))\n",
    "# x = InputEmbedLayer(features, dff , d_embedding)(input_)\n",
    "\n",
    "# pos_encoding = positional_encoding(maximum_position_encoding, d_embedding)   #(1, maximum_position_encoding=256, d_model=128)\n",
    "\n",
    "# seq_len = tf.shape(x)[1]\n",
    "# x += pos_encoding[:, :seq_len, :]     #x is the output of Input layer\n",
    "\n",
    "# x = tf.keras.layers.Dropout(rate)(x, training=True)\n",
    "\n",
    "# attention_weights = {}\n",
    "# mask, _ = create_masks(tar)\n",
    "# for i in range(num_layers):\n",
    "#     d_inp_decoder = tf.keras.backend.int_shape(x)[-1]\n",
    "#     x, attentionweights = DecoderLayer(d_inp_decoder, d_model, num_heads, dff)(x, True, mask)\n",
    "#     attention_weights['decoder_layer{}'.format(i+1)] = attentionweights\n",
    "\n",
    "# final_output = tf.keras.layers.Dense(d_model, activation=None)(x)\n",
    "\n",
    "\n",
    "# model = tf.keras.models.Model(input_, final_output)\n"
   ]
  },
  {
   "cell_type": "code",
   "execution_count": 16,
   "metadata": {},
   "outputs": [
    {
     "name": "stderr",
     "output_type": "stream",
     "text": [
      "2023-11-29 13:28:19.810078: I tensorflow/stream_executor/platform/default/dso_loader.cc:49] Successfully opened dynamic library libcublas.so.10\n"
     ]
    },
    {
     "data": {
      "text/plain": [
       "<tf.Tensor: shape=(64, 80, 128), dtype=float32, numpy=\n",
       "array([[[-0.96264964, -0.13842274, -0.74493814, ..., -1.2343074 ,\n",
       "          1.3267695 , -0.6104987 ],\n",
       "        [ 0.25708124, -0.20853738, -0.75184876, ..., -1.6564318 ,\n",
       "          0.94815665, -0.7570156 ],\n",
       "        [ 0.47538325, -0.5303145 , -0.4106178 , ..., -1.4163913 ,\n",
       "          0.70768017,  0.43268484],\n",
       "        ...,\n",
       "        [ 0.63675153,  0.14145385, -0.8262774 , ..., -2.9506447 ,\n",
       "         -0.13801973,  0.12563787],\n",
       "        [ 0.2124158 ,  0.19231683, -0.5090889 , ..., -2.779857  ,\n",
       "          0.14802092,  0.11480163],\n",
       "        [ 0.87338364,  1.340819  ,  0.5741002 , ..., -2.2252326 ,\n",
       "         -0.6019885 ,  0.01624613]],\n",
       "\n",
       "       [[-0.835879  ,  0.25721636, -0.41793096, ..., -0.16215265,\n",
       "          1.2663417 , -0.8686456 ],\n",
       "        [ 0.36984882, -0.5234424 , -0.00295592, ..., -1.0935731 ,\n",
       "          1.2942277 , -0.2628175 ],\n",
       "        [ 0.49489582,  0.1696037 , -0.53702515, ..., -0.42095536,\n",
       "          1.19627   , -0.45792982],\n",
       "        ...,\n",
       "        [ 0.10091586,  0.48398796,  0.01006441, ..., -1.7880054 ,\n",
       "         -1.0118246 ,  0.10204695],\n",
       "        [ 0.34879684,  1.3365405 ,  0.49503994, ..., -2.6459513 ,\n",
       "         -0.9526937 ,  0.3438197 ],\n",
       "        [ 0.32088366,  1.8782341 ,  0.30519268, ..., -1.8459845 ,\n",
       "         -0.88921994, -0.29155767]],\n",
       "\n",
       "       [[-0.2772211 , -0.38636157, -0.10373528, ..., -0.7151815 ,\n",
       "          0.5001623 , -0.75249135],\n",
       "        [ 0.32249275, -0.7219045 , -0.63211507, ..., -1.6968755 ,\n",
       "          1.017468  ,  0.33889893],\n",
       "        [ 0.05903634, -0.33418068, -0.06044644, ..., -0.7918794 ,\n",
       "          1.7049575 ,  0.4235102 ],\n",
       "        ...,\n",
       "        [ 0.6311108 , -0.15551168, -0.13614753, ..., -2.148241  ,\n",
       "         -0.7954874 ,  0.42198604],\n",
       "        [ 0.17938486,  1.3200209 , -0.4198869 , ..., -2.3904102 ,\n",
       "         -0.63708645,  0.14389247],\n",
       "        [ 0.35110253,  0.89137924,  0.42645773, ..., -1.4000758 ,\n",
       "         -1.0881557 , -0.0664756 ]],\n",
       "\n",
       "       ...,\n",
       "\n",
       "       [[-0.63242024, -0.6027931 , -0.31105888, ..., -0.8608101 ,\n",
       "          0.9221594 , -0.5888602 ],\n",
       "        [-0.549226  , -0.51378226, -0.15074702, ..., -1.5334046 ,\n",
       "          1.0567417 ,  0.6315688 ],\n",
       "        [-0.5339321 ,  0.25612828, -0.61156887, ..., -1.520493  ,\n",
       "          1.3889636 ,  0.5219288 ],\n",
       "        ...,\n",
       "        [ 0.21670951,  0.61422956,  0.30623168, ..., -2.0932753 ,\n",
       "         -0.3813258 ,  0.35877118],\n",
       "        [ 0.56305754,  0.89793664,  0.36808375, ..., -1.8637238 ,\n",
       "         -0.6078558 ,  0.36192217],\n",
       "        [-0.0484766 ,  0.96237135,  0.74969584, ..., -1.4110703 ,\n",
       "         -1.2204766 ,  0.5155415 ]],\n",
       "\n",
       "       [[-0.7693942 ,  0.1106884 ,  0.28619248, ..., -1.3468186 ,\n",
       "          1.2044909 , -1.1477095 ],\n",
       "        [ 0.14263394, -0.6822968 , -0.49939212, ..., -1.9702665 ,\n",
       "          1.7389134 ,  0.289775  ],\n",
       "        [ 0.1875004 ,  0.57164353, -0.30951145, ..., -0.990041  ,\n",
       "          0.8659522 , -0.14901066],\n",
       "        ...,\n",
       "        [ 0.31897554,  1.7572968 ,  0.11887967, ..., -2.338142  ,\n",
       "         -0.9555116 ,  0.16882078],\n",
       "        [-0.8635033 ,  0.6141501 , -0.62632304, ..., -2.4259374 ,\n",
       "         -1.6171479 , -0.01345315],\n",
       "        [ 0.1965633 ,  1.8306885 , -0.2809016 , ..., -2.367302  ,\n",
       "         -0.69790155, -0.16406661]],\n",
       "\n",
       "       [[-0.34998232, -0.5654202 , -0.6584987 , ..., -0.59851116,\n",
       "          1.5752132 , -0.5659525 ],\n",
       "        [-0.59711987, -0.02936175, -0.6397797 , ..., -1.8285478 ,\n",
       "          0.64991754, -0.13979399],\n",
       "        [-0.24655563, -0.9663335 , -0.948303  , ..., -1.3890729 ,\n",
       "          1.2394214 ,  0.24677373],\n",
       "        ...,\n",
       "        [ 0.31916836,  0.4944873 , -0.74589914, ..., -2.3123703 ,\n",
       "         -0.43964437,  0.70881325],\n",
       "        [-0.20444457,  1.9594462 ,  0.5094622 , ..., -1.7878458 ,\n",
       "         -1.0221697 , -0.10896257],\n",
       "        [ 1.0561395 ,  1.4489824 ,  0.24476707, ..., -2.449896  ,\n",
       "         -0.56323767, -0.6128701 ]]], dtype=float32)>"
      ]
     },
     "execution_count": 16,
     "metadata": {},
     "output_type": "execute_result"
    }
   ],
   "source": [
    "model(inp[:, :-1])"
   ]
  },
  {
   "cell_type": "code",
   "execution_count": 17,
   "metadata": {},
   "outputs": [
    {
     "data": {
      "text/plain": [
       "{'decoder_layer1': <KerasTensor: shape=(64, 2, 80, 80) dtype=float32 (created by layer 'decoder_3')>,\n",
       " 'decoder_layer2': <KerasTensor: shape=(64, 2, 80, 80) dtype=float32 (created by layer 'decoder_3')>,\n",
       " 'decoder_layer3': <KerasTensor: shape=(64, 2, 80, 80) dtype=float32 (created by layer 'decoder_3')>,\n",
       " 'decoder_layer4': <KerasTensor: shape=(64, 2, 80, 80) dtype=float32 (created by layer 'decoder_3')>}"
      ]
     },
     "execution_count": 17,
     "metadata": {},
     "output_type": "execute_result"
    }
   ],
   "source": [
    "attention_weights"
   ]
  },
  {
   "cell_type": "code",
   "execution_count": null,
   "metadata": {},
   "outputs": [],
   "source": []
  },
  {
   "cell_type": "code",
   "execution_count": null,
   "metadata": {},
   "outputs": [],
   "source": []
  },
  {
   "cell_type": "code",
   "execution_count": null,
   "metadata": {},
   "outputs": [],
   "source": []
  }
 ],
 "metadata": {
  "kernelspec": {
   "display_name": "mainenv",
   "language": "python",
   "name": "mainenv"
  },
  "orig_nbformat": 4
 },
 "nbformat": 4,
 "nbformat_minor": 2
}
